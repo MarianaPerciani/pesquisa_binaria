{
  "nbformat": 4,
  "nbformat_minor": 0,
  "metadata": {
    "colab": {
      "provenance": [],
      "authorship_tag": "ABX9TyM3hIU1/FdoLavIMyfHSVqt",
      "include_colab_link": true
    },
    "kernelspec": {
      "name": "python3",
      "display_name": "Python 3"
    },
    "language_info": {
      "name": "python"
    }
  },
  "cells": [
    {
      "cell_type": "markdown",
      "metadata": {
        "id": "view-in-github",
        "colab_type": "text"
      },
      "source": [
        "<a href=\"https://colab.research.google.com/github/MarianaPerciani/pesquisa_binaria/blob/main/pesquisa_binaria.ipynb\" target=\"_parent\"><img src=\"https://colab.research.google.com/assets/colab-badge.svg\" alt=\"Open In Colab\"/></a>"
      ]
    },
    {
      "cell_type": "code",
      "source": [
        "import math\n"
      ],
      "metadata": {
        "id": "gZBrvIPd-hTx"
      },
      "execution_count": null,
      "outputs": []
    },
    {
      "cell_type": "code",
      "source": [
        "while True:\n",
        "    try:\n",
        "        tamanho_lista = int(input(\"Digite o tamanho da lista que você quer:\"))\n",
        "        break  # Exit the loop if the input is a valid integer\n",
        "    except ValueError:\n",
        "        print(\"Entrada inválida. Por favor, digite um número inteiro.\")\n",
        "\n",
        "lista = list(range(1, tamanho_lista + 1))"
      ],
      "metadata": {
        "id": "RSJn6wcA9Tly"
      },
      "execution_count": null,
      "outputs": []
    },
    {
      "cell_type": "code",
      "source": [
        "max_tentativas = math.ceil(math.log(tamanho_lista,2)) #log_base_2 = math.log(num, base)"
      ],
      "metadata": {
        "id": "bYl9NC7g9ybC"
      },
      "execution_count": null,
      "outputs": []
    },
    {
      "cell_type": "code",
      "source": [
        "while True:\n",
        "    inciando = input(\"Pense em um valor de 1 a \" +str(tamanho_lista) + \" .\\nAposto que consigo acertar em até \" + str(max_tentativas) + \" tentativas.\\nQuando entiver pronto para iniciar digite 1:\")\n",
        "    if inciando == \"1\":\n",
        "        break\n",
        "    else:\n",
        "        print(\"Por favor, digite 1 para iniciar.\")"
      ],
      "metadata": {
        "id": "OnALnooT_nop"
      },
      "execution_count": null,
      "outputs": []
    },
    {
      "cell_type": "code",
      "metadata": {
        "id": "1a294183"
      },
      "source": [
        "contador_chutes = 1\n",
        "baixo = 0 #posição mais baixa da lista\n",
        "alto = (len(lista) - 1) #posição mais alta da lista\n",
        "meio = (baixo + alto) // 2\n",
        "chute = \"0\""
      ],
      "execution_count": null,
      "outputs": []
    },
    {
      "cell_type": "code",
      "source": [
        "while chute != \"1\":\n",
        "    print(\"Tentativa \"+ str(contador_chutes) + \": Você pensou no número \" + str(lista[meio]) + \"?\")\n",
        "    chute = input(\"Se acertei, digite 1.\\nSe o valor que você pensou é maior, digite 2.\\nSe o valor que você pensou é menor, digite 3.\")\n",
        "    if chute == \"1\":\n",
        "      print(\"Uhuuul, acertei em \" + str(contador_chutes) + \" tentativas!\")\n",
        "    if chute == \"2\":\n",
        "      contador_chutes += 1\n",
        "      baixo = meio + 1\n",
        "      meio = (baixo + alto) // 2\n",
        "    if chute == \"3\":\n",
        "      contador_chutes += 1\n",
        "      alto = meio - 1\n",
        "      meio = (baixo + alto) // 2"
      ],
      "metadata": {
        "id": "o2nborcF2aVi"
      },
      "execution_count": null,
      "outputs": []
    }
  ]
}